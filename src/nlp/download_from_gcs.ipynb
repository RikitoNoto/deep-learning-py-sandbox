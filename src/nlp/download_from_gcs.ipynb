{
 "cells": [
  {
   "cell_type": "code",
   "execution_count": 1,
   "metadata": {},
   "outputs": [
    {
     "name": "stdout",
     "output_type": "stream",
     "text": [
      "Collecting gsutil\n",
      "  Downloading gsutil-5.27.tar.gz (3.0 MB)\n",
      "\u001b[2K     \u001b[90m━━━━━━━━━━━━━━━━━━━━━━━━━━━━━━━━━━━━━━━━\u001b[0m \u001b[32m3.0/3.0 MB\u001b[0m \u001b[31m23.4 MB/s\u001b[0m eta \u001b[36m0:00:00\u001b[0ma \u001b[36m0:00:01\u001b[0m\n",
      "\u001b[?25h  Preparing metadata (setup.py) ... \u001b[?25ldone\n",
      "\u001b[?25hCollecting argcomplete>=1.9.4 (from gsutil)\n",
      "  Downloading argcomplete-3.3.0-py3-none-any.whl.metadata (16 kB)\n",
      "Collecting crcmod>=1.7 (from gsutil)\n",
      "  Downloading crcmod-1.7.tar.gz (89 kB)\n",
      "\u001b[2K     \u001b[90m━━━━━━━━━━━━━━━━━━━━━━━━━━━━━━━━━━━━━━━━\u001b[0m \u001b[32m89.7/89.7 kB\u001b[0m \u001b[31m11.6 MB/s\u001b[0m eta \u001b[36m0:00:00\u001b[0m\n",
      "\u001b[?25h  Preparing metadata (setup.py) ... \u001b[?25ldone\n",
      "\u001b[?25hRequirement already satisfied: fasteners>=0.14.1 in /Users/RikitoNoto/projects/python/deep-learning-py-sandbox/venv/lib/python3.10/site-packages (from gsutil) (0.19)\n",
      "Collecting gcs-oauth2-boto-plugin>=3.0 (from gsutil)\n",
      "  Downloading gcs-oauth2-boto-plugin-3.0.tar.gz (20 kB)\n",
      "  Preparing metadata (setup.py) ... \u001b[?25ldone\n",
      "\u001b[?25hCollecting google-apitools>=0.5.32 (from gsutil)\n",
      "  Downloading google_apitools-0.5.32-py3-none-any.whl.metadata (2.3 kB)\n",
      "Collecting httplib2==0.20.4 (from gsutil)\n",
      "  Downloading httplib2-0.20.4-py3-none-any.whl.metadata (2.5 kB)\n",
      "Collecting google-reauth>=0.1.0 (from gsutil)\n",
      "  Downloading google_reauth-0.1.1-py2.py3-none-any.whl.metadata (2.6 kB)\n",
      "Collecting monotonic>=1.4 (from gsutil)\n",
      "  Downloading monotonic-1.6-py2.py3-none-any.whl.metadata (1.5 kB)\n",
      "Collecting pyOpenSSL>=0.13 (from gsutil)\n",
      "  Downloading pyOpenSSL-24.1.0-py3-none-any.whl.metadata (12 kB)\n",
      "Collecting retry_decorator>=1.0.0 (from gsutil)\n",
      "  Downloading retry_decorator-1.1.1.tar.gz (3.9 kB)\n",
      "  Preparing metadata (setup.py) ... \u001b[?25ldone\n",
      "\u001b[?25hRequirement already satisfied: six>=1.16.0 in /Users/RikitoNoto/projects/python/deep-learning-py-sandbox/venv/lib/python3.10/site-packages (from gsutil) (1.16.0)\n",
      "Requirement already satisfied: google-auth>=2.5.0 in /Users/RikitoNoto/projects/python/deep-learning-py-sandbox/venv/lib/python3.10/site-packages (from google-auth[aiohttp]>=2.5.0->gsutil) (2.27.0)\n",
      "Requirement already satisfied: pyparsing!=3.0.0,!=3.0.1,!=3.0.2,!=3.0.3,<4,>=2.4.2 in /Users/RikitoNoto/projects/python/deep-learning-py-sandbox/venv/lib/python3.10/site-packages (from httplib2==0.20.4->gsutil) (3.1.1)\n",
      "Collecting rsa==4.7.2 (from gcs-oauth2-boto-plugin>=3.0->gsutil)\n",
      "  Downloading rsa-4.7.2-py3-none-any.whl.metadata (3.6 kB)\n",
      "Collecting boto>=2.29.1 (from gcs-oauth2-boto-plugin>=3.0->gsutil)\n",
      "  Downloading boto-2.49.0-py2.py3-none-any.whl.metadata (7.3 kB)\n",
      "Collecting oauth2client>=2.2.0 (from gcs-oauth2-boto-plugin>=3.0->gsutil)\n",
      "  Downloading oauth2client-4.1.3-py2.py3-none-any.whl.metadata (1.2 kB)\n",
      "Requirement already satisfied: pyasn1>=0.1.3 in /Users/RikitoNoto/projects/python/deep-learning-py-sandbox/venv/lib/python3.10/site-packages (from rsa==4.7.2->gcs-oauth2-boto-plugin>=3.0->gsutil) (0.5.1)\n",
      "Requirement already satisfied: cachetools<6.0,>=2.0.0 in /Users/RikitoNoto/projects/python/deep-learning-py-sandbox/venv/lib/python3.10/site-packages (from google-auth>=2.5.0->google-auth[aiohttp]>=2.5.0->gsutil) (5.3.2)\n",
      "Requirement already satisfied: pyasn1-modules>=0.2.1 in /Users/RikitoNoto/projects/python/deep-learning-py-sandbox/venv/lib/python3.10/site-packages (from google-auth>=2.5.0->google-auth[aiohttp]>=2.5.0->gsutil) (0.3.0)\n",
      "Requirement already satisfied: aiohttp<4.0.0.dev0,>=3.6.2 in /Users/RikitoNoto/projects/python/deep-learning-py-sandbox/venv/lib/python3.10/site-packages (from google-auth[aiohttp]>=2.5.0->gsutil) (3.9.4)\n",
      "Requirement already satisfied: requests<3.0.0.dev0,>=2.20.0 in /Users/RikitoNoto/projects/python/deep-learning-py-sandbox/venv/lib/python3.10/site-packages (from google-auth[aiohttp]>=2.5.0->gsutil) (2.31.0)\n",
      "Collecting pyu2f (from google-reauth>=0.1.0->gsutil)\n",
      "  Downloading pyu2f-0.1.5.tar.gz (27 kB)\n",
      "  Preparing metadata (setup.py) ... \u001b[?25ldone\n",
      "\u001b[?25hCollecting cryptography<43,>=41.0.5 (from pyOpenSSL>=0.13->gsutil)\n",
      "  Downloading cryptography-42.0.5-cp39-abi3-macosx_10_12_universal2.whl.metadata (5.3 kB)\n",
      "Requirement already satisfied: aiosignal>=1.1.2 in /Users/RikitoNoto/projects/python/deep-learning-py-sandbox/venv/lib/python3.10/site-packages (from aiohttp<4.0.0.dev0,>=3.6.2->google-auth[aiohttp]>=2.5.0->gsutil) (1.3.1)\n",
      "Requirement already satisfied: attrs>=17.3.0 in /Users/RikitoNoto/projects/python/deep-learning-py-sandbox/venv/lib/python3.10/site-packages (from aiohttp<4.0.0.dev0,>=3.6.2->google-auth[aiohttp]>=2.5.0->gsutil) (23.2.0)\n",
      "Requirement already satisfied: frozenlist>=1.1.1 in /Users/RikitoNoto/projects/python/deep-learning-py-sandbox/venv/lib/python3.10/site-packages (from aiohttp<4.0.0.dev0,>=3.6.2->google-auth[aiohttp]>=2.5.0->gsutil) (1.4.1)\n",
      "Requirement already satisfied: multidict<7.0,>=4.5 in /Users/RikitoNoto/projects/python/deep-learning-py-sandbox/venv/lib/python3.10/site-packages (from aiohttp<4.0.0.dev0,>=3.6.2->google-auth[aiohttp]>=2.5.0->gsutil) (6.0.5)\n",
      "Requirement already satisfied: yarl<2.0,>=1.0 in /Users/RikitoNoto/projects/python/deep-learning-py-sandbox/venv/lib/python3.10/site-packages (from aiohttp<4.0.0.dev0,>=3.6.2->google-auth[aiohttp]>=2.5.0->gsutil) (1.9.4)\n",
      "Requirement already satisfied: async-timeout<5.0,>=4.0 in /Users/RikitoNoto/projects/python/deep-learning-py-sandbox/venv/lib/python3.10/site-packages (from aiohttp<4.0.0.dev0,>=3.6.2->google-auth[aiohttp]>=2.5.0->gsutil) (4.0.3)\n",
      "Requirement already satisfied: cffi>=1.12 in /Users/RikitoNoto/projects/python/deep-learning-py-sandbox/venv/lib/python3.10/site-packages (from cryptography<43,>=41.0.5->pyOpenSSL>=0.13->gsutil) (1.16.0)\n",
      "Requirement already satisfied: charset-normalizer<4,>=2 in /Users/RikitoNoto/projects/python/deep-learning-py-sandbox/venv/lib/python3.10/site-packages (from requests<3.0.0.dev0,>=2.20.0->google-auth[aiohttp]>=2.5.0->gsutil) (3.3.2)\n",
      "Requirement already satisfied: idna<4,>=2.5 in /Users/RikitoNoto/projects/python/deep-learning-py-sandbox/venv/lib/python3.10/site-packages (from requests<3.0.0.dev0,>=2.20.0->google-auth[aiohttp]>=2.5.0->gsutil) (3.6)\n",
      "Requirement already satisfied: urllib3<3,>=1.21.1 in /Users/RikitoNoto/projects/python/deep-learning-py-sandbox/venv/lib/python3.10/site-packages (from requests<3.0.0.dev0,>=2.20.0->google-auth[aiohttp]>=2.5.0->gsutil) (2.2.0)\n",
      "Requirement already satisfied: certifi>=2017.4.17 in /Users/RikitoNoto/projects/python/deep-learning-py-sandbox/venv/lib/python3.10/site-packages (from requests<3.0.0.dev0,>=2.20.0->google-auth[aiohttp]>=2.5.0->gsutil) (2024.2.2)\n",
      "Requirement already satisfied: pycparser in /Users/RikitoNoto/projects/python/deep-learning-py-sandbox/venv/lib/python3.10/site-packages (from cffi>=1.12->cryptography<43,>=41.0.5->pyOpenSSL>=0.13->gsutil) (2.21)\n",
      "Downloading httplib2-0.20.4-py3-none-any.whl (96 kB)\n",
      "\u001b[2K   \u001b[90m━━━━━━━━━━━━━━━━━━━━━━━━━━━━━━━━━━━━━━━━\u001b[0m \u001b[32m96.6/96.6 kB\u001b[0m \u001b[31m11.8 MB/s\u001b[0m eta \u001b[36m0:00:00\u001b[0m\n",
      "\u001b[?25hDownloading argcomplete-3.3.0-py3-none-any.whl (42 kB)\n",
      "\u001b[2K   \u001b[90m━━━━━━━━━━━━━━━━━━━━━━━━━━━━━━━━━━━━━━━━\u001b[0m \u001b[32m42.6/42.6 kB\u001b[0m \u001b[31m4.9 MB/s\u001b[0m eta \u001b[36m0:00:00\u001b[0m\n",
      "\u001b[?25hDownloading rsa-4.7.2-py3-none-any.whl (34 kB)\n",
      "Downloading google_apitools-0.5.32-py3-none-any.whl (135 kB)\n",
      "\u001b[2K   \u001b[90m━━━━━━━━━━━━━━━━━━━━━━━━━━━━━━━━━━━━━━━━\u001b[0m \u001b[32m135.7/135.7 kB\u001b[0m \u001b[31m12.9 MB/s\u001b[0m eta \u001b[36m0:00:00\u001b[0m\n",
      "\u001b[?25hDownloading google_reauth-0.1.1-py2.py3-none-any.whl (17 kB)\n",
      "Downloading monotonic-1.6-py2.py3-none-any.whl (8.2 kB)\n",
      "Downloading pyOpenSSL-24.1.0-py3-none-any.whl (56 kB)\n",
      "\u001b[2K   \u001b[90m━━━━━━━━━━━━━━━━━━━━━━━━━━━━━━━━━━━━━━━━\u001b[0m \u001b[32m56.9/56.9 kB\u001b[0m \u001b[31m6.3 MB/s\u001b[0m eta \u001b[36m0:00:00\u001b[0m\n",
      "\u001b[?25hDownloading boto-2.49.0-py2.py3-none-any.whl (1.4 MB)\n",
      "\u001b[2K   \u001b[90m━━━━━━━━━━━━━━━━━━━━━━━━━━━━━━━━━━━━━━━━\u001b[0m \u001b[32m1.4/1.4 MB\u001b[0m \u001b[31m22.0 MB/s\u001b[0m eta \u001b[36m0:00:00\u001b[0ma \u001b[36m0:00:01\u001b[0m\n",
      "\u001b[?25hDownloading cryptography-42.0.5-cp39-abi3-macosx_10_12_universal2.whl (5.9 MB)\n",
      "\u001b[2K   \u001b[90m━━━━━━━━━━━━━━━━━━━━━━━━━━━━━━━━━━━━━━━━\u001b[0m \u001b[32m5.9/5.9 MB\u001b[0m \u001b[31m29.7 MB/s\u001b[0m eta \u001b[36m0:00:00\u001b[0m00:01\u001b[0m00:01\u001b[0m\n",
      "\u001b[?25hDownloading oauth2client-4.1.3-py2.py3-none-any.whl (98 kB)\n",
      "\u001b[2K   \u001b[90m━━━━━━━━━━━━━━━━━━━━━━━━━━━━━━━━━━━━━━━━\u001b[0m \u001b[32m98.2/98.2 kB\u001b[0m \u001b[31m12.6 MB/s\u001b[0m eta \u001b[36m0:00:00\u001b[0m\n",
      "\u001b[?25hBuilding wheels for collected packages: gsutil, crcmod, gcs-oauth2-boto-plugin, retry_decorator, pyu2f\n",
      "  Building wheel for gsutil (setup.py) ... \u001b[?25ldone\n",
      "\u001b[?25h  Created wheel for gsutil: filename=gsutil-5.27-py3-none-any.whl size=3785291 sha256=b7ce15144657ca16b9ebffabb579e6d085bac0b8b375b6166ee54123b20608c1\n",
      "  Stored in directory: /Users/RikitoNoto/Library/Caches/pip/wheels/03/0c/cd/24471307835689188d49827232a1430bdd36587f913d8f707f\n",
      "  Building wheel for crcmod (setup.py) ... \u001b[?25ldone\n",
      "\u001b[?25h  Created wheel for crcmod: filename=crcmod-1.7-cp310-cp310-macosx_13_0_arm64.whl size=22485 sha256=dd63fec6a37317131f2e8c8f9295f03b2ea1e88b6223d67badd11b4e6e4447ca\n",
      "  Stored in directory: /Users/RikitoNoto/Library/Caches/pip/wheels/85/4c/07/72215c529bd59d67e3dac29711d7aba1b692f543c808ba9e86\n",
      "  Building wheel for gcs-oauth2-boto-plugin (setup.py) ... \u001b[?25ldone\n",
      "\u001b[?25h  Created wheel for gcs-oauth2-boto-plugin: filename=gcs_oauth2_boto_plugin-3.0-py3-none-any.whl size=23213 sha256=32e1f385f66820491da1e1a13665d4bb288f1f327e6d4fc4fbda761ffa4ee847\n",
      "  Stored in directory: /Users/RikitoNoto/Library/Caches/pip/wheels/77/2a/cd/c7b51b51563ebefe01488e3ecb19df401ea6725771937d3bc6\n",
      "  Building wheel for retry_decorator (setup.py) ... \u001b[?25ldone\n",
      "\u001b[?25h  Created wheel for retry_decorator: filename=retry_decorator-1.1.1-py2.py3-none-any.whl size=3636 sha256=4386eedb662a2252257a1f72cdb80d713383228d0466be988d3333581ee38f06\n",
      "  Stored in directory: /Users/RikitoNoto/Library/Caches/pip/wheels/dd/ac/77/8c54eac0d373d9eacfbe42599710c9bf91b4c5985297f6922a\n",
      "  Building wheel for pyu2f (setup.py) ... \u001b[?25ldone\n",
      "\u001b[?25h  Created wheel for pyu2f: filename=pyu2f-0.1.5-py3-none-any.whl size=39404 sha256=f7e97e6c71ddbce8cbae4ec966d269b53b6685b40d574cc32d6850d93a15fe66\n",
      "  Stored in directory: /Users/RikitoNoto/Library/Caches/pip/wheels/ab/7b/27/66d7389916ad9e6caabb23cb55a4cf483dbbe5e6fc2a5cb428\n",
      "Successfully built gsutil crcmod gcs-oauth2-boto-plugin retry_decorator pyu2f\n",
      "Installing collected packages: retry_decorator, monotonic, crcmod, boto, rsa, pyu2f, httplib2, argcomplete, oauth2client, google-reauth, cryptography, pyOpenSSL, google-apitools, gcs-oauth2-boto-plugin, gsutil\n",
      "  Attempting uninstall: rsa\n",
      "    Found existing installation: rsa 4.9\n",
      "    Uninstalling rsa-4.9:\n",
      "      Successfully uninstalled rsa-4.9\n",
      "Successfully installed argcomplete-3.3.0 boto-2.49.0 crcmod-1.7 cryptography-42.0.5 gcs-oauth2-boto-plugin-3.0 google-apitools-0.5.32 google-reauth-0.1.1 gsutil-5.27 httplib2-0.20.4 monotonic-1.6 oauth2client-4.1.3 pyOpenSSL-24.1.0 pyu2f-0.1.5 retry_decorator-1.1.1 rsa-4.7.2\n",
      "Note: you may need to restart the kernel to use updated packages.\n"
     ]
    }
   ],
   "source": [
    "%pip install gsutil"
   ]
  },
  {
   "cell_type": "code",
   "execution_count": 5,
   "metadata": {},
   "outputs": [
    {
     "name": "stdout",
     "output_type": "stream",
     "text": [
      "/bin/bash: gcloud: command not found\n",
      "This command will create a boto config file at /Users/RikitoNoto/.boto\n",
      "containing your credentials, based on your responses to the following\n",
      "questions.\n",
      "CommandException: The user account authentication flow no longer works as of February 1, 2023. Tokens generated before this date will continue to work. To authenticate with your user account, install gsutil via Cloud SDK and run \"gcloud auth login\"\n",
      "CommandException: Wrong number of arguments for \"cp\" command.\n"
     ]
    }
   ],
   "source": [
    "!gcloud auth login\n",
    "!gsutil config\n",
    "!gsutil -m -o \"GSUtil:parallel_process_count=1\" cp -r gs://lua_sources/lua_sources/\n"
   ]
  }
 ],
 "metadata": {
  "kernelspec": {
   "display_name": "venv",
   "language": "python",
   "name": "python3"
  },
  "language_info": {
   "codemirror_mode": {
    "name": "ipython",
    "version": 3
   },
   "file_extension": ".py",
   "mimetype": "text/x-python",
   "name": "python",
   "nbconvert_exporter": "python",
   "pygments_lexer": "ipython3",
   "version": "3.10.12"
  }
 },
 "nbformat": 4,
 "nbformat_minor": 2
}
